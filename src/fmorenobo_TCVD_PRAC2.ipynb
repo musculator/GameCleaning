{
 "cells": [
  {
   "cell_type": "code",
   "execution_count": 1,
   "metadata": {},
   "outputs": [],
   "source": [
    "import pandas as pd\n",
    "import numpy as np\n",
    "import matplotlib.pyplot as plt\n",
    "import seaborn as sns"
   ]
  },
  {
   "cell_type": "code",
   "execution_count": 2,
   "metadata": {},
   "outputs": [
    {
     "name": "stderr",
     "output_type": "stream",
     "text": [
      "C:\\Users\\recurso\\.conda\\envs\\Master\\lib\\site-packages\\IPython\\core\\interactiveshell.py:3063: DtypeWarning: Columns (23) have mixed types.Specify dtype option on import or set low_memory=False.\n",
      "  interactivity=interactivity, compiler=compiler, result=result)\n"
     ]
    },
    {
     "data": {
      "text/html": [
       "<div>\n",
       "<style scoped>\n",
       "    .dataframe tbody tr th:only-of-type {\n",
       "        vertical-align: middle;\n",
       "    }\n",
       "\n",
       "    .dataframe tbody tr th {\n",
       "        vertical-align: top;\n",
       "    }\n",
       "\n",
       "    .dataframe thead th {\n",
       "        text-align: right;\n",
       "    }\n",
       "</style>\n",
       "<table border=\"1\" class=\"dataframe\">\n",
       "  <thead>\n",
       "    <tr style=\"text-align: right;\">\n",
       "      <th></th>\n",
       "      <th>Add-on</th>\n",
       "      <th>GameTittle</th>\n",
       "      <th>Genre</th>\n",
       "      <th>Platforms</th>\n",
       "      <th>Published by</th>\n",
       "      <th>Released</th>\n",
       "      <th>Platform</th>\n",
       "      <th>Developed by</th>\n",
       "      <th>Gameplay</th>\n",
       "      <th>Official Site</th>\n",
       "      <th>...</th>\n",
       "      <th>Pacing</th>\n",
       "      <th>Special Edition</th>\n",
       "      <th>ESRB Rating</th>\n",
       "      <th>Interface</th>\n",
       "      <th>Misc</th>\n",
       "      <th>Visual</th>\n",
       "      <th>Art</th>\n",
       "      <th>Sport</th>\n",
       "      <th>Educational</th>\n",
       "      <th>Amazon Rating</th>\n",
       "    </tr>\n",
       "  </thead>\n",
       "  <tbody>\n",
       "    <tr>\n",
       "      <th>0</th>\n",
       "      <td>Customization / outfit / skin</td>\n",
       "      <td>Dead Space: Pedestrian Pack</td>\n",
       "      <td>DLC / add-on</td>\n",
       "      <td>PlayStation 3, Xbox 360</td>\n",
       "      <td>Electronic Arts, Inc.</td>\n",
       "      <td>Nov 13, 2008</td>\n",
       "      <td>NaN</td>\n",
       "      <td>NaN</td>\n",
       "      <td>NaN</td>\n",
       "      <td>NaN</td>\n",
       "      <td>...</td>\n",
       "      <td>NaN</td>\n",
       "      <td>NaN</td>\n",
       "      <td>NaN</td>\n",
       "      <td>NaN</td>\n",
       "      <td>NaN</td>\n",
       "      <td>NaN</td>\n",
       "      <td>NaN</td>\n",
       "      <td>NaN</td>\n",
       "      <td>NaN</td>\n",
       "      <td>NaN</td>\n",
       "    </tr>\n",
       "    <tr>\n",
       "      <th>1</th>\n",
       "      <td>Customization / outfit / skin, Item</td>\n",
       "      <td>Dead Space: Scorpion Pack</td>\n",
       "      <td>Compilation, DLC / add-on</td>\n",
       "      <td>PlayStation 3, Xbox 360</td>\n",
       "      <td>Electronic Arts, Inc.</td>\n",
       "      <td>Nov 13, 2008</td>\n",
       "      <td>NaN</td>\n",
       "      <td>NaN</td>\n",
       "      <td>NaN</td>\n",
       "      <td>NaN</td>\n",
       "      <td>...</td>\n",
       "      <td>NaN</td>\n",
       "      <td>NaN</td>\n",
       "      <td>NaN</td>\n",
       "      <td>NaN</td>\n",
       "      <td>NaN</td>\n",
       "      <td>NaN</td>\n",
       "      <td>NaN</td>\n",
       "      <td>NaN</td>\n",
       "      <td>NaN</td>\n",
       "      <td>NaN</td>\n",
       "    </tr>\n",
       "    <tr>\n",
       "      <th>2</th>\n",
       "      <td>Customization / outfit / skin</td>\n",
       "      <td>Dead Space: Scorpion Suit</td>\n",
       "      <td>DLC / add-on</td>\n",
       "      <td>PlayStation 3, Xbox 360</td>\n",
       "      <td>Electronic Arts, Inc.</td>\n",
       "      <td>Oct 09, 2008</td>\n",
       "      <td>NaN</td>\n",
       "      <td>NaN</td>\n",
       "      <td>NaN</td>\n",
       "      <td>NaN</td>\n",
       "      <td>...</td>\n",
       "      <td>NaN</td>\n",
       "      <td>NaN</td>\n",
       "      <td>NaN</td>\n",
       "      <td>NaN</td>\n",
       "      <td>NaN</td>\n",
       "      <td>NaN</td>\n",
       "      <td>NaN</td>\n",
       "      <td>NaN</td>\n",
       "      <td>NaN</td>\n",
       "      <td>NaN</td>\n",
       "    </tr>\n",
       "    <tr>\n",
       "      <th>3</th>\n",
       "      <td>Item</td>\n",
       "      <td>Dead Space: Scorpion Weapon Pack</td>\n",
       "      <td>DLC / add-on</td>\n",
       "      <td>PlayStation 3, Xbox 360</td>\n",
       "      <td>Electronic Arts, Inc.</td>\n",
       "      <td>Nov 13, 2008</td>\n",
       "      <td>NaN</td>\n",
       "      <td>NaN</td>\n",
       "      <td>NaN</td>\n",
       "      <td>NaN</td>\n",
       "      <td>...</td>\n",
       "      <td>NaN</td>\n",
       "      <td>NaN</td>\n",
       "      <td>NaN</td>\n",
       "      <td>NaN</td>\n",
       "      <td>NaN</td>\n",
       "      <td>NaN</td>\n",
       "      <td>NaN</td>\n",
       "      <td>NaN</td>\n",
       "      <td>NaN</td>\n",
       "      <td>NaN</td>\n",
       "    </tr>\n",
       "    <tr>\n",
       "      <th>4</th>\n",
       "      <td>Item</td>\n",
       "      <td>Dead Space: Speed Kills Pack</td>\n",
       "      <td>DLC / add-on</td>\n",
       "      <td>PlayStation 3, Xbox 360</td>\n",
       "      <td>Electronic Arts, Inc.</td>\n",
       "      <td>Nov 13, 2008</td>\n",
       "      <td>NaN</td>\n",
       "      <td>NaN</td>\n",
       "      <td>NaN</td>\n",
       "      <td>NaN</td>\n",
       "      <td>...</td>\n",
       "      <td>NaN</td>\n",
       "      <td>NaN</td>\n",
       "      <td>NaN</td>\n",
       "      <td>NaN</td>\n",
       "      <td>NaN</td>\n",
       "      <td>NaN</td>\n",
       "      <td>NaN</td>\n",
       "      <td>NaN</td>\n",
       "      <td>NaN</td>\n",
       "      <td>NaN</td>\n",
       "    </tr>\n",
       "  </tbody>\n",
       "</table>\n",
       "<p>5 rows × 24 columns</p>\n",
       "</div>"
      ],
      "text/plain": [
       "                                Add-on                        GameTittle  \\\n",
       "0        Customization / outfit / skin       Dead Space: Pedestrian Pack   \n",
       "1  Customization / outfit / skin, Item         Dead Space: Scorpion Pack   \n",
       "2        Customization / outfit / skin         Dead Space: Scorpion Suit   \n",
       "3                                 Item  Dead Space: Scorpion Weapon Pack   \n",
       "4                                 Item      Dead Space: Speed Kills Pack   \n",
       "\n",
       "                       Genre                Platforms           Published by  \\\n",
       "0               DLC / add-on  PlayStation 3, Xbox 360  Electronic Arts, Inc.   \n",
       "1  Compilation, DLC / add-on  PlayStation 3, Xbox 360  Electronic Arts, Inc.   \n",
       "2               DLC / add-on  PlayStation 3, Xbox 360  Electronic Arts, Inc.   \n",
       "3               DLC / add-on  PlayStation 3, Xbox 360  Electronic Arts, Inc.   \n",
       "4               DLC / add-on  PlayStation 3, Xbox 360  Electronic Arts, Inc.   \n",
       "\n",
       "       Released Platform Developed by Gameplay Official Site  ... Pacing  \\\n",
       "0  Nov 13, 2008      NaN          NaN      NaN           NaN  ...    NaN   \n",
       "1  Nov 13, 2008      NaN          NaN      NaN           NaN  ...    NaN   \n",
       "2  Oct 09, 2008      NaN          NaN      NaN           NaN  ...    NaN   \n",
       "3  Nov 13, 2008      NaN          NaN      NaN           NaN  ...    NaN   \n",
       "4  Nov 13, 2008      NaN          NaN      NaN           NaN  ...    NaN   \n",
       "\n",
       "  Special Edition ESRB Rating Interface Misc Visual  Art Sport Educational  \\\n",
       "0             NaN         NaN       NaN  NaN    NaN  NaN   NaN         NaN   \n",
       "1             NaN         NaN       NaN  NaN    NaN  NaN   NaN         NaN   \n",
       "2             NaN         NaN       NaN  NaN    NaN  NaN   NaN         NaN   \n",
       "3             NaN         NaN       NaN  NaN    NaN  NaN   NaN         NaN   \n",
       "4             NaN         NaN       NaN  NaN    NaN  NaN   NaN         NaN   \n",
       "\n",
       "  Amazon Rating  \n",
       "0           NaN  \n",
       "1           NaN  \n",
       "2           NaN  \n",
       "3           NaN  \n",
       "4           NaN  \n",
       "\n",
       "[5 rows x 24 columns]"
      ]
     },
     "execution_count": 2,
     "metadata": {},
     "output_type": "execute_result"
    }
   ],
   "source": [
    "data = pd.read_csv('gamesDataSet_original.csv')\n",
    "data.head()"
   ]
  },
  {
   "cell_type": "code",
   "execution_count": 3,
   "metadata": {},
   "outputs": [
    {
     "data": {
      "text/plain": [
       "Add-on             100.000000\n",
       "GameTittle           0.001127\n",
       "Genre                0.075521\n",
       "Platforms           57.196479\n",
       "Published by         7.589301\n",
       "Released             0.001127\n",
       "Platform            42.805776\n",
       "Developed by        24.775409\n",
       "Gameplay            35.691018\n",
       "Official Site       78.544135\n",
       "Perspective         21.868413\n",
       "Setting             65.796860\n",
       "Vehicular           90.158594\n",
       "Narrative           88.064294\n",
       "Pacing              83.246728\n",
       "Special Edition     97.235028\n",
       "ESRB Rating         89.509339\n",
       "Interface           75.461298\n",
       "Misc                87.663018\n",
       "Visual              67.619509\n",
       "Art                 91.313953\n",
       "Sport               93.365420\n",
       "Educational         96.832625\n",
       "Amazon Rating       99.997746\n",
       "dtype: float64"
      ]
     },
     "execution_count": 3,
     "metadata": {},
     "output_type": "execute_result"
    }
   ],
   "source": [
    "data = data[data['Add-on'].isnull()]\n",
    "data.isnull().sum()  / data.shape[0] * 100"
   ]
  },
  {
   "cell_type": "code",
   "execution_count": 4,
   "metadata": {},
   "outputs": [],
   "source": [
    "data = data[['GameTittle','Genre','Platforms','Published by','Released','Platform','Developed by','Gameplay','Perspective']]"
   ]
  },
  {
   "cell_type": "code",
   "execution_count": 5,
   "metadata": {},
   "outputs": [
    {
     "name": "stdout",
     "output_type": "stream",
     "text": [
      "50741 50741\n"
     ]
    }
   ],
   "source": [
    "platformNN = data[~data['Platform'].isnull()].shape[0]\n",
    "platformNNandPlatformsN = data[~data['Platform'].isnull() & data['Platforms'].isnull()].shape[0]\n",
    "\n",
    "print (platformNN,platformNNandPlatformsN)"
   ]
  },
  {
   "cell_type": "code",
   "execution_count": 6,
   "metadata": {},
   "outputs": [
    {
     "data": {
      "text/plain": [
       "GameTittle          1\n",
       "Genre              67\n",
       "Platforms           2\n",
       "Published by     6733\n",
       "Released            1\n",
       "Developed by    21980\n",
       "Gameplay        31664\n",
       "Perspective     19401\n",
       "dtype: int64"
      ]
     },
     "execution_count": 6,
     "metadata": {},
     "output_type": "execute_result"
    }
   ],
   "source": [
    "data.loc[~data['Platform'].isnull(), 'Platforms'] = data.loc[~data['Platform'].isnull(), 'Platform']\n",
    "data = data.drop(['Platform'], axis=1)\n",
    "data.isnull().sum() "
   ]
  },
  {
   "cell_type": "code",
   "execution_count": 7,
   "metadata": {},
   "outputs": [
    {
     "data": {
      "text/html": [
       "<div>\n",
       "<style scoped>\n",
       "    .dataframe tbody tr th:only-of-type {\n",
       "        vertical-align: middle;\n",
       "    }\n",
       "\n",
       "    .dataframe tbody tr th {\n",
       "        vertical-align: top;\n",
       "    }\n",
       "\n",
       "    .dataframe thead th {\n",
       "        text-align: right;\n",
       "    }\n",
       "</style>\n",
       "<table border=\"1\" class=\"dataframe\">\n",
       "  <thead>\n",
       "    <tr style=\"text-align: right;\">\n",
       "      <th></th>\n",
       "      <th>GameTittle</th>\n",
       "      <th>Genre</th>\n",
       "      <th>Platforms</th>\n",
       "      <th>Published by</th>\n",
       "      <th>Released</th>\n",
       "      <th>Developed by</th>\n",
       "      <th>Gameplay</th>\n",
       "      <th>Perspective</th>\n",
       "    </tr>\n",
       "  </thead>\n",
       "  <tbody>\n",
       "    <tr>\n",
       "      <th>68205</th>\n",
       "      <td>NaN</td>\n",
       "      <td>NaN</td>\n",
       "      <td>NaN</td>\n",
       "      <td>NaN</td>\n",
       "      <td>NaN</td>\n",
       "      <td>NaN</td>\n",
       "      <td>NaN</td>\n",
       "      <td>NaN</td>\n",
       "    </tr>\n",
       "  </tbody>\n",
       "</table>\n",
       "</div>"
      ],
      "text/plain": [
       "      GameTittle Genre Platforms Published by Released Developed by Gameplay  \\\n",
       "68205        NaN   NaN       NaN          NaN      NaN          NaN      NaN   \n",
       "\n",
       "      Perspective  \n",
       "68205         NaN  "
      ]
     },
     "execution_count": 7,
     "metadata": {},
     "output_type": "execute_result"
    }
   ],
   "source": [
    "data[data['GameTittle'].isnull()]"
   ]
  },
  {
   "cell_type": "code",
   "execution_count": 8,
   "metadata": {},
   "outputs": [
    {
     "data": {
      "text/plain": [
       "GameTittle          0\n",
       "Genre              66\n",
       "Platforms           0\n",
       "Published by     6731\n",
       "Released            0\n",
       "Developed by    21978\n",
       "Gameplay        31663\n",
       "Perspective     19400\n",
       "dtype: int64"
      ]
     },
     "execution_count": 8,
     "metadata": {},
     "output_type": "execute_result"
    }
   ],
   "source": [
    "data = data[~data['GameTittle'].isnull()]\n",
    "data = data[~data['Platforms'].isnull()]\n",
    "data.isnull().sum() "
   ]
  },
  {
   "cell_type": "code",
   "execution_count": 9,
   "metadata": {},
   "outputs": [
    {
     "data": {
      "text/plain": [
       "GameTittle      0\n",
       "Genre           0\n",
       "Platforms       0\n",
       "Published by    0\n",
       "Released        3\n",
       "Developed by    0\n",
       "Gameplay        0\n",
       "Perspective     0\n",
       "dtype: int64"
      ]
     },
     "execution_count": 9,
     "metadata": {},
     "output_type": "execute_result"
    }
   ],
   "source": [
    "(data=='Unknown').sum() "
   ]
  },
  {
   "cell_type": "code",
   "execution_count": 10,
   "metadata": {},
   "outputs": [],
   "source": [
    "data = data[data['Released'] != 'Unknown']\n",
    "data = data.fillna('Unknown')"
   ]
  },
  {
   "cell_type": "code",
   "execution_count": 11,
   "metadata": {},
   "outputs": [
    {
     "data": {
      "text/plain": [
       "(88712, 8)"
      ]
     },
     "execution_count": 11,
     "metadata": {},
     "output_type": "execute_result"
    }
   ],
   "source": [
    "data.shape"
   ]
  },
  {
   "cell_type": "code",
   "execution_count": 12,
   "metadata": {},
   "outputs": [
    {
     "data": {
      "text/html": [
       "<div>\n",
       "<style scoped>\n",
       "    .dataframe tbody tr th:only-of-type {\n",
       "        vertical-align: middle;\n",
       "    }\n",
       "\n",
       "    .dataframe tbody tr th {\n",
       "        vertical-align: top;\n",
       "    }\n",
       "\n",
       "    .dataframe thead th {\n",
       "        text-align: right;\n",
       "    }\n",
       "</style>\n",
       "<table border=\"1\" class=\"dataframe\">\n",
       "  <thead>\n",
       "    <tr style=\"text-align: right;\">\n",
       "      <th></th>\n",
       "      <th>GameTittle</th>\n",
       "      <th>Genre</th>\n",
       "      <th>Platforms</th>\n",
       "      <th>Published by</th>\n",
       "      <th>Released</th>\n",
       "      <th>Developed by</th>\n",
       "      <th>Gameplay</th>\n",
       "      <th>Perspective</th>\n",
       "    </tr>\n",
       "  </thead>\n",
       "  <tbody>\n",
       "    <tr>\n",
       "      <th>5</th>\n",
       "      <td>Dead Space: Super Bundle</td>\n",
       "      <td>Compilation</td>\n",
       "      <td>PlayStation 3</td>\n",
       "      <td>Electronic Arts, Inc.</td>\n",
       "      <td>May 09, 2012</td>\n",
       "      <td>Unknown</td>\n",
       "      <td>Unknown</td>\n",
       "      <td>Unknown</td>\n",
       "    </tr>\n",
       "    <tr>\n",
       "      <th>7</th>\n",
       "      <td>Dead Space: Ultimate Edition</td>\n",
       "      <td>Compilation</td>\n",
       "      <td>PlayStation 3</td>\n",
       "      <td>Electronic Arts, Inc.</td>\n",
       "      <td>May 01, 2012</td>\n",
       "      <td>Unknown</td>\n",
       "      <td>Unknown</td>\n",
       "      <td>Unknown</td>\n",
       "    </tr>\n",
       "    <tr>\n",
       "      <th>8</th>\n",
       "      <td>Dead Star</td>\n",
       "      <td>Action, Strategy / tactics</td>\n",
       "      <td>PlayStation 4, Windows</td>\n",
       "      <td>Armature Studio</td>\n",
       "      <td>Apr 05, 2016</td>\n",
       "      <td>Armature Studio</td>\n",
       "      <td>Shooter</td>\n",
       "      <td>Top-down</td>\n",
       "    </tr>\n",
       "    <tr>\n",
       "      <th>9</th>\n",
       "      <td>Dead State</td>\n",
       "      <td>Role-Playing (RPG), Strategy / tactics</td>\n",
       "      <td>Windows</td>\n",
       "      <td>DoubleBear Productions</td>\n",
       "      <td>Feb 14, 2014</td>\n",
       "      <td>DoubleBear Productions</td>\n",
       "      <td>Unknown</td>\n",
       "      <td>Bird's-eye view</td>\n",
       "    </tr>\n",
       "    <tr>\n",
       "      <th>10</th>\n",
       "      <td>Dead State: Reanimated</td>\n",
       "      <td>Role-Playing (RPG), Strategy / tactics</td>\n",
       "      <td>Windows</td>\n",
       "      <td>DoubleBear Productions</td>\n",
       "      <td>May 13, 2015</td>\n",
       "      <td>DoubleBear Productions</td>\n",
       "      <td>Unknown</td>\n",
       "      <td>Bird's-eye view</td>\n",
       "    </tr>\n",
       "  </tbody>\n",
       "</table>\n",
       "</div>"
      ],
      "text/plain": [
       "                      GameTittle                                   Genre  \\\n",
       "5       Dead Space: Super Bundle                             Compilation   \n",
       "7   Dead Space: Ultimate Edition                             Compilation   \n",
       "8                      Dead Star              Action, Strategy / tactics   \n",
       "9                     Dead State  Role-Playing (RPG), Strategy / tactics   \n",
       "10        Dead State: Reanimated  Role-Playing (RPG), Strategy / tactics   \n",
       "\n",
       "                 Platforms            Published by      Released  \\\n",
       "5            PlayStation 3   Electronic Arts, Inc.  May 09, 2012   \n",
       "7            PlayStation 3   Electronic Arts, Inc.  May 01, 2012   \n",
       "8   PlayStation 4, Windows         Armature Studio  Apr 05, 2016   \n",
       "9                  Windows  DoubleBear Productions  Feb 14, 2014   \n",
       "10                 Windows  DoubleBear Productions  May 13, 2015   \n",
       "\n",
       "              Developed by Gameplay      Perspective  \n",
       "5                  Unknown  Unknown          Unknown  \n",
       "7                  Unknown  Unknown          Unknown  \n",
       "8          Armature Studio  Shooter         Top-down  \n",
       "9   DoubleBear Productions  Unknown  Bird's-eye view  \n",
       "10  DoubleBear Productions  Unknown  Bird's-eye view  "
      ]
     },
     "execution_count": 12,
     "metadata": {},
     "output_type": "execute_result"
    }
   ],
   "source": [
    "data.head()"
   ]
  },
  {
   "cell_type": "code",
   "execution_count": 13,
   "metadata": {},
   "outputs": [
    {
     "data": {
      "text/plain": [
       "5         May 09, 2012\n",
       "7         May 01, 2012\n",
       "8         Apr 05, 2016\n",
       "9         Feb 14, 2014\n",
       "10        May 13, 2015\n",
       "              ...     \n",
       "114701    May 01, 2012\n",
       "114703            2009\n",
       "114704    Nov 13, 2008\n",
       "114706    Oct 13, 2010\n",
       "114711    Oct 27, 2011\n",
       "Name: Released, Length: 88712, dtype: object"
      ]
     },
     "execution_count": 13,
     "metadata": {},
     "output_type": "execute_result"
    }
   ],
   "source": [
    "data.Released"
   ]
  },
  {
   "cell_type": "code",
   "execution_count": 14,
   "metadata": {},
   "outputs": [],
   "source": [
    "def getYearIfCompleteDate(date):\n",
    "    if len(date) > 4:\n",
    "        date = date[-4:]\n",
    "    return date"
   ]
  },
  {
   "cell_type": "code",
   "execution_count": 15,
   "metadata": {},
   "outputs": [
    {
     "data": {
      "text/plain": [
       "array(['2012', '2016', '2014', '2015', '2009', '2010', '2004', '2002',\n",
       "       '2005', '2019', '2013', '1986', '2003', '1994', '2006', '2011',\n",
       "       '2007', '2008', '2017', '2000', '2018', '2020', '1996', '1990',\n",
       "       '1991', '1989', '1988', '1983', '1997', '1992', '1995', '1980',\n",
       "       '1987', '1976', '1984', '1982', '1985', '2001', '1999', '1981',\n",
       "       '1978', '1993', '1998', '1979', '1975', '1974', '1977', '1972',\n",
       "       '1964', '1965', '1970', '1973', '1951', '1969', '1966', '1968',\n",
       "       '1971', '1955', '1963', '1961', '1958', '1962', '1959', '1952',\n",
       "       '1967', '1954', '1956', '1957', '1950', '1953', '1960'],\n",
       "      dtype=object)"
      ]
     },
     "execution_count": 15,
     "metadata": {},
     "output_type": "execute_result"
    }
   ],
   "source": [
    "data.Released = data.Released.apply(getYearIfCompleteDate)\n",
    "data.Released.unique()"
   ]
  },
  {
   "cell_type": "code",
   "execution_count": 16,
   "metadata": {},
   "outputs": [
    {
     "data": {
      "text/plain": [
       "{'whiskers': [<matplotlib.lines.Line2D at 0x203dd686ba8>,\n",
       "  <matplotlib.lines.Line2D at 0x203dd686ef0>],\n",
       " 'caps': [<matplotlib.lines.Line2D at 0x203dd686fd0>,\n",
       "  <matplotlib.lines.Line2D at 0x203dd6a45c0>],\n",
       " 'boxes': [<matplotlib.lines.Line2D at 0x203dd686780>],\n",
       " 'medians': [<matplotlib.lines.Line2D at 0x203dd6a4908>],\n",
       " 'fliers': [<matplotlib.lines.Line2D at 0x203dd6a4c50>],\n",
       " 'means': []}"
      ]
     },
     "execution_count": 16,
     "metadata": {},
     "output_type": "execute_result"
    },
    {
     "data": {
      "image/png": "[encoded data removed]",
      "text/plain": [
       "<Figure size 432x288 with 1 Axes>"
      ]
     },
     "metadata": {
      "needs_background": "light"
     },
     "output_type": "display_data"
    }
   ],
   "source": [
    "plt.boxplot(pd.to_numeric(data.Released))"
   ]
  },
  {
   "cell_type": "code",
   "execution_count": 17,
   "metadata": {},
   "outputs": [
    {
     "data": {
      "text/html": [
       "<div>\n",
       "<style scoped>\n",
       "    .dataframe tbody tr th:only-of-type {\n",
       "        vertical-align: middle;\n",
       "    }\n",
       "\n",
       "    .dataframe tbody tr th {\n",
       "        vertical-align: top;\n",
       "    }\n",
       "\n",
       "    .dataframe thead th {\n",
       "        text-align: right;\n",
       "    }\n",
       "</style>\n",
       "<table border=\"1\" class=\"dataframe\">\n",
       "  <thead>\n",
       "    <tr style=\"text-align: right;\">\n",
       "      <th></th>\n",
       "      <th>GameTittle</th>\n",
       "      <th>Genre</th>\n",
       "      <th>Platforms</th>\n",
       "      <th>Published by</th>\n",
       "      <th>Released</th>\n",
       "      <th>Developed by</th>\n",
       "      <th>Gameplay</th>\n",
       "      <th>Perspective</th>\n",
       "    </tr>\n",
       "  </thead>\n",
       "  <tbody>\n",
       "    <tr>\n",
       "      <th>5</th>\n",
       "      <td>Dead Space: Super Bundle</td>\n",
       "      <td>Compilation</td>\n",
       "      <td>PlayStation 3</td>\n",
       "      <td>Electronic Arts, Inc.</td>\n",
       "      <td>2012</td>\n",
       "      <td>Unknown</td>\n",
       "      <td>Unknown</td>\n",
       "      <td>Unknown</td>\n",
       "    </tr>\n",
       "    <tr>\n",
       "      <th>7</th>\n",
       "      <td>Dead Space: Ultimate Edition</td>\n",
       "      <td>Compilation</td>\n",
       "      <td>PlayStation 3</td>\n",
       "      <td>Electronic Arts, Inc.</td>\n",
       "      <td>2012</td>\n",
       "      <td>Unknown</td>\n",
       "      <td>Unknown</td>\n",
       "      <td>Unknown</td>\n",
       "    </tr>\n",
       "    <tr>\n",
       "      <th>8</th>\n",
       "      <td>Dead Star</td>\n",
       "      <td>Action, Strategy / tactics</td>\n",
       "      <td>PlayStation 4, Windows</td>\n",
       "      <td>Armature Studio</td>\n",
       "      <td>2016</td>\n",
       "      <td>Armature Studio</td>\n",
       "      <td>Shooter</td>\n",
       "      <td>Top-down</td>\n",
       "    </tr>\n",
       "    <tr>\n",
       "      <th>9</th>\n",
       "      <td>Dead State</td>\n",
       "      <td>Role-Playing (RPG), Strategy / tactics</td>\n",
       "      <td>Windows</td>\n",
       "      <td>DoubleBear Productions</td>\n",
       "      <td>2014</td>\n",
       "      <td>DoubleBear Productions</td>\n",
       "      <td>Unknown</td>\n",
       "      <td>Bird's-eye view</td>\n",
       "    </tr>\n",
       "    <tr>\n",
       "      <th>10</th>\n",
       "      <td>Dead State: Reanimated</td>\n",
       "      <td>Role-Playing (RPG), Strategy / tactics</td>\n",
       "      <td>Windows</td>\n",
       "      <td>DoubleBear Productions</td>\n",
       "      <td>2015</td>\n",
       "      <td>DoubleBear Productions</td>\n",
       "      <td>Unknown</td>\n",
       "      <td>Bird's-eye view</td>\n",
       "    </tr>\n",
       "  </tbody>\n",
       "</table>\n",
       "</div>"
      ],
      "text/plain": [
       "                      GameTittle                                   Genre  \\\n",
       "5       Dead Space: Super Bundle                             Compilation   \n",
       "7   Dead Space: Ultimate Edition                             Compilation   \n",
       "8                      Dead Star              Action, Strategy / tactics   \n",
       "9                     Dead State  Role-Playing (RPG), Strategy / tactics   \n",
       "10        Dead State: Reanimated  Role-Playing (RPG), Strategy / tactics   \n",
       "\n",
       "                 Platforms            Published by Released  \\\n",
       "5            PlayStation 3   Electronic Arts, Inc.     2012   \n",
       "7            PlayStation 3   Electronic Arts, Inc.     2012   \n",
       "8   PlayStation 4, Windows         Armature Studio     2016   \n",
       "9                  Windows  DoubleBear Productions     2014   \n",
       "10                 Windows  DoubleBear Productions     2015   \n",
       "\n",
       "              Developed by Gameplay      Perspective  \n",
       "5                  Unknown  Unknown          Unknown  \n",
       "7                  Unknown  Unknown          Unknown  \n",
       "8          Armature Studio  Shooter         Top-down  \n",
       "9   DoubleBear Productions  Unknown  Bird's-eye view  \n",
       "10  DoubleBear Productions  Unknown  Bird's-eye view  "
      ]
     },
     "execution_count": 17,
     "metadata": {},
     "output_type": "execute_result"
    }
   ],
   "source": [
    "data.head()"
   ]
  },
  {
   "cell_type": "code",
   "execution_count": 18,
   "metadata": {},
   "outputs": [],
   "source": [
    "lst_col = 'Platforms'\n",
    "data = data.assign(**{lst_col:data[lst_col].str.split(',')})"
   ]
  },
  {
   "cell_type": "code",
   "execution_count": 19,
   "metadata": {},
   "outputs": [],
   "source": [
    "data = pd.DataFrame({\n",
    "          col:np.repeat(data[col].values, data[lst_col].str.len())\n",
    "          for col in data.columns.difference([lst_col])\n",
    "}).assign(**{lst_col:np.concatenate(data[lst_col].values)})[data.columns.tolist()]"
   ]
  },
  {
   "cell_type": "code",
   "execution_count": 20,
   "metadata": {},
   "outputs": [
    {
     "data": {
      "text/html": [
       "<div>\n",
       "<style scoped>\n",
       "    .dataframe tbody tr th:only-of-type {\n",
       "        vertical-align: middle;\n",
       "    }\n",
       "\n",
       "    .dataframe tbody tr th {\n",
       "        vertical-align: top;\n",
       "    }\n",
       "\n",
       "    .dataframe thead th {\n",
       "        text-align: right;\n",
       "    }\n",
       "</style>\n",
       "<table border=\"1\" class=\"dataframe\">\n",
       "  <thead>\n",
       "    <tr style=\"text-align: right;\">\n",
       "      <th></th>\n",
       "      <th>GameTittle</th>\n",
       "      <th>Genre</th>\n",
       "      <th>Platform</th>\n",
       "      <th>Published by</th>\n",
       "      <th>Released</th>\n",
       "      <th>Developed by</th>\n",
       "      <th>Gameplay</th>\n",
       "      <th>Perspective</th>\n",
       "    </tr>\n",
       "  </thead>\n",
       "  <tbody>\n",
       "    <tr>\n",
       "      <th>0</th>\n",
       "      <td>Dead Space: Super Bundle</td>\n",
       "      <td>Compilation</td>\n",
       "      <td>PlayStation 3</td>\n",
       "      <td>Electronic Arts, Inc.</td>\n",
       "      <td>2012</td>\n",
       "      <td>Unknown</td>\n",
       "      <td>Unknown</td>\n",
       "      <td>Unknown</td>\n",
       "    </tr>\n",
       "    <tr>\n",
       "      <th>1</th>\n",
       "      <td>Dead Space: Ultimate Edition</td>\n",
       "      <td>Compilation</td>\n",
       "      <td>PlayStation 3</td>\n",
       "      <td>Electronic Arts, Inc.</td>\n",
       "      <td>2012</td>\n",
       "      <td>Unknown</td>\n",
       "      <td>Unknown</td>\n",
       "      <td>Unknown</td>\n",
       "    </tr>\n",
       "    <tr>\n",
       "      <th>2</th>\n",
       "      <td>Dead Star</td>\n",
       "      <td>Action, Strategy / tactics</td>\n",
       "      <td>PlayStation 4</td>\n",
       "      <td>Armature Studio</td>\n",
       "      <td>2016</td>\n",
       "      <td>Armature Studio</td>\n",
       "      <td>Shooter</td>\n",
       "      <td>Top-down</td>\n",
       "    </tr>\n",
       "    <tr>\n",
       "      <th>3</th>\n",
       "      <td>Dead Star</td>\n",
       "      <td>Action, Strategy / tactics</td>\n",
       "      <td>Windows</td>\n",
       "      <td>Armature Studio</td>\n",
       "      <td>2016</td>\n",
       "      <td>Armature Studio</td>\n",
       "      <td>Shooter</td>\n",
       "      <td>Top-down</td>\n",
       "    </tr>\n",
       "    <tr>\n",
       "      <th>4</th>\n",
       "      <td>Dead State</td>\n",
       "      <td>Role-Playing (RPG), Strategy / tactics</td>\n",
       "      <td>Windows</td>\n",
       "      <td>DoubleBear Productions</td>\n",
       "      <td>2014</td>\n",
       "      <td>DoubleBear Productions</td>\n",
       "      <td>Unknown</td>\n",
       "      <td>Bird's-eye view</td>\n",
       "    </tr>\n",
       "  </tbody>\n",
       "</table>\n",
       "</div>"
      ],
      "text/plain": [
       "                     GameTittle                                   Genre  \\\n",
       "0      Dead Space: Super Bundle                             Compilation   \n",
       "1  Dead Space: Ultimate Edition                             Compilation   \n",
       "2                     Dead Star              Action, Strategy / tactics   \n",
       "3                     Dead Star              Action, Strategy / tactics   \n",
       "4                    Dead State  Role-Playing (RPG), Strategy / tactics   \n",
       "\n",
       "        Platform            Published by Released            Developed by  \\\n",
       "0  PlayStation 3   Electronic Arts, Inc.     2012                 Unknown   \n",
       "1  PlayStation 3   Electronic Arts, Inc.     2012                 Unknown   \n",
       "2  PlayStation 4         Armature Studio     2016         Armature Studio   \n",
       "3        Windows         Armature Studio     2016         Armature Studio   \n",
       "4        Windows  DoubleBear Productions     2014  DoubleBear Productions   \n",
       "\n",
       "  Gameplay      Perspective  \n",
       "0  Unknown          Unknown  \n",
       "1  Unknown          Unknown  \n",
       "2  Shooter         Top-down  \n",
       "3  Shooter         Top-down  \n",
       "4  Unknown  Bird's-eye view  "
      ]
     },
     "execution_count": 20,
     "metadata": {},
     "output_type": "execute_result"
    }
   ],
   "source": [
    "data = data.rename(columns={\"Platforms\": \"Platform\"})\n",
    "data.head()"
   ]
  },
  {
   "cell_type": "code",
   "execution_count": 21,
   "metadata": {},
   "outputs": [
    {
     "data": {
      "text/plain": [
       "(180672, 8)"
      ]
     },
     "execution_count": 21,
     "metadata": {},
     "output_type": "execute_result"
    }
   ],
   "source": [
    "data.shape"
   ]
  },
  {
   "cell_type": "code",
   "execution_count": 22,
   "metadata": {},
   "outputs": [],
   "source": [
    "data.Platform  = data.Platform.apply(lambda x: x.strip())\n",
    "data.Released = pd.to_numeric(data.Released)\n",
    "data.to_csv ('gamesDataSet_final.csv', index = False, header=True)   "
   ]
  },
  {
   "cell_type": "code",
   "execution_count": null,
   "metadata": {},
   "outputs": [],
   "source": [
    "####ANÀLISI"
   ]
  },
  {
   "cell_type": "code",
   "execution_count": 58,
   "metadata": {},
   "outputs": [
    {
     "name": "stdout",
     "output_type": "stream",
     "text": [
      "Windows            36310\n",
      "Macintosh          11902\n",
      "iPhone              7901\n",
      "iPad                7416\n",
      "DOS                 7088\n",
      "Android             6673\n",
      "PlayStation 4       6086\n",
      "Linux               5023\n",
      "PlayStation 3       4996\n",
      "Commodore 64        4848\n",
      "Xbox One            4073\n",
      "Nintendo Switch     3823\n",
      "Xbox 360            3819\n",
      "Amiga               3633\n",
      "ZX Spectrum         3248\n",
      "PlayStation 2       3149\n",
      "Browser             2837\n",
      "Arcade              2628\n",
      "PlayStation         2486\n",
      "Wii                 2416\n",
      "PS Vita             2412\n",
      "Atari ST            2404\n",
      "Amstrad CPC         2108\n",
      "PSP                 2040\n",
      "Apple II            1962\n",
      "Nintendo DS         1878\n",
      "Windows 3.x         1504\n",
      "Nintendo 3DS        1501\n",
      "Atari 8-bit         1498\n",
      "Wii U               1346\n",
      "NES                 1333\n",
      "PC-98               1293\n",
      "MSX                 1209\n",
      "SNES                1174\n",
      "Name: Platform, dtype: int64\n"
     ]
    }
   ],
   "source": [
    "platformList = data.Platform.value_counts()\n",
    "platformList = platformList[platformList > 1000]\n",
    "print(platformList)\n",
    "platformList = platformList[platformList > 1000].index.tolist()\n",
    "data2 = data[data.Platform.isin(platformList)]"
   ]
  },
  {
   "cell_type": "code",
   "execution_count": 24,
   "metadata": {},
   "outputs": [
    {
     "name": "stdout",
     "output_type": "stream",
     "text": [
      "(180672, 8)\n",
      "(154017, 8)\n"
     ]
    }
   ],
   "source": [
    "print(data.shape)\n",
    "print(data2.shape)"
   ]
  },
  {
   "cell_type": "code",
   "execution_count": 63,
   "metadata": {},
   "outputs": [
    {
     "name": "stdout",
     "output_type": "stream",
     "text": [
      "34\n"
     ]
    },
    {
     "data": {
      "image/png": "[encoded data removed]",
      "text/plain": [
       "<Figure size 1440x360 with 1 Axes>"
      ]
     },
     "metadata": {
      "needs_background": "light"
     },
     "output_type": "display_data"
    },
    {
     "data": {
      "image/png": "[encoded data removed]",
      "text/plain": [
       "<Figure size 1440x360 with 1 Axes>"
      ]
     },
     "metadata": {
      "needs_background": "light"
     },
     "output_type": "display_data"
    },
    {
     "data": {
      "image/png": "[encoded data removed]",
      "text/plain": [
       "<Figure size 1440x360 with 1 Axes>"
      ]
     },
     "metadata": {
      "needs_background": "light"
     },
     "output_type": "display_data"
    }
   ],
   "source": [
    "varName = 'Platform'\n",
    "\n",
    "print(data2[varName].nunique())\n",
    "\n",
    "data2 = data2.sort_values(by=varName, ascending=True)\n",
    "\n",
    "plt.figure(figsize=(20,5))\n",
    "plt.xticks(rotation='vertical')\n",
    "sns.countplot(data = data2, x = varName)\n",
    "plt.show()\n",
    "\n",
    "plt.figure(figsize=(20,5))\n",
    "plt.xticks(rotation='vertical')\n",
    "sns.countplot(data = data2[data2.Platform != 'Windows'], x = varName)\n",
    "plt.show()\n",
    "\n",
    "plt.figure(figsize=(20,5))\n",
    "plt.xticks(rotation='vertical')\n",
    "sns.boxplot(data = data2, x=varName, y='Released',showfliers=False)\n",
    "plt.show()"
   ]
  },
  {
   "cell_type": "code",
   "execution_count": 64,
   "metadata": {},
   "outputs": [
    {
     "data": {
      "text/plain": [
       "[<matplotlib.lines.Line2D at 0x203e187d160>]"
      ]
     },
     "execution_count": 64,
     "metadata": {},
     "output_type": "execute_result"
    },
    {
     "data": {
      "image/png": "[encoded data removed]",
      "text/plain": [
       "<Figure size 432x288 with 1 Axes>"
      ]
     },
     "metadata": {
      "needs_background": "light"
     },
     "output_type": "display_data"
    }
   ],
   "source": [
    "plt.plot(data2['Released'].value_counts().sort_index())"
   ]
  },
  {
   "cell_type": "code",
   "execution_count": 26,
   "metadata": {},
   "outputs": [
    {
     "data": {
      "text/plain": [
       "PlayStation 4    6086\n",
       "PlayStation 3    4996\n",
       "PlayStation 2    3149\n",
       "PlayStation      2486\n",
       "Name: Platform, dtype: int64"
      ]
     },
     "execution_count": 26,
     "metadata": {},
     "output_type": "execute_result"
    }
   ],
   "source": [
    "dataPlays = data2[data2.Platform.str.contains('PlayStation')]\n",
    "dataPlays.Platform.value_counts()"
   ]
  },
  {
   "cell_type": "code",
   "execution_count": 56,
   "metadata": {},
   "outputs": [
    {
     "data": {
      "image/png": "[encoded data removed]",
      "text/plain": [
       "<Figure size 432x288 with 1 Axes>"
      ]
     },
     "metadata": {
      "needs_background": "light"
     },
     "output_type": "display_data"
    },
    {
     "data": {
      "image/png": "[encoded data removed]",
      "text/plain": [
       "<Figure size 432x288 with 1 Axes>"
      ]
     },
     "metadata": {
      "needs_background": "light"
     },
     "output_type": "display_data"
    }
   ],
   "source": [
    "def createPlots ():\n",
    "    plays = ['PlayStation','PlayStation 2', 'PlayStation 3','PlayStation 4']\n",
    "    colors = ['yellow', 'red', 'green','blue']\n",
    "    colorIndex = 0\n",
    "\n",
    "    for target in plays:\n",
    "        x = dataPlays[dataPlays['Platform']==target].Released\n",
    "        legend = target\n",
    "        legend = '%s σ = %s' % (target, round(x.std(),2))\n",
    "        plt.hist(x, facecolor=colors[colorIndex], alpha=0.5, label = legend)\n",
    "        plt.axvline(x.mean(), color=colors[colorIndex], linestyle='dashed', linewidth=1)\n",
    "        colorIndex=(colorIndex+1) % 4\n",
    "    plt.legend()\n",
    "    plt.show()\n",
    "\n",
    "    sns.boxplot(data = dataPlays, x=varName, y='Released',showfliers=False)\n",
    "    \n",
    "createPlaystationPlots()"
   ]
  },
  {
   "cell_type": "code",
   "execution_count": 49,
   "metadata": {},
   "outputs": [
    {
     "data": {
      "text/plain": [
       "Nintendo Switch    3823\n",
       "Nintendo DS        1878\n",
       "Nintendo 3DS       1501\n",
       "Name: Platform, dtype: int64"
      ]
     },
     "execution_count": 49,
     "metadata": {},
     "output_type": "execute_result"
    }
   ],
   "source": [
    "dataNintendos = data2[data2.Platform.str.contains('Nintendo')]\n",
    "dataNintendos.Platform.value_counts()"
   ]
  },
  {
   "cell_type": "code",
   "execution_count": 55,
   "metadata": {},
   "outputs": [
    {
     "data": {
      "image/png": "[encoded data removed]",
      "text/plain": [
       "<Figure size 432x288 with 1 Axes>"
      ]
     },
     "metadata": {
      "needs_background": "light"
     },
     "output_type": "display_data"
    },
    {
     "data": {
      "image/png": "[encoded data removed]",
      "text/plain": [
       "<Figure size 432x288 with 1 Axes>"
      ]
     },
     "metadata": {
      "needs_background": "light"
     },
     "output_type": "display_data"
    }
   ],
   "source": [
    "def createNintendoPlots ():\n",
    "    plays = ['Nintendo DS','Nintendo 3DS', 'Nintendo Switch']\n",
    "    colors = ['red', 'green','blue']\n",
    "    colorIndex = 0\n",
    "\n",
    "    for target in plays:\n",
    "        x = dataNintendos[dataNintendos['Platform']==target].Released\n",
    "        legend = target\n",
    "        legend = '%s σ = %s' % (target, round(x.std(),2))\n",
    "        plt.hist(x, facecolor=colors[colorIndex], alpha=0.5, label = legend)\n",
    "        plt.axvline(x.mean(), color=colors[colorIndex], linestyle='dashed', linewidth=1)\n",
    "        colorIndex=(colorIndex+1) % 3\n",
    "    plt.legend()\n",
    "    plt.show()\n",
    "\n",
    "    sns.boxplot(data = dataNintendos, x=varName, y='Released',showfliers=False)\n",
    "    \n",
    "createNintendoPlots()"
   ]
  }
 ],
 "metadata": {
  "kernelspec": {
   "display_name": "Python 3",
   "language": "python",
   "name": "python3"
  },
  "language_info": {
   "codemirror_mode": {
    "name": "ipython",
    "version": 3
   },
   "file_extension": ".py",
   "mimetype": "text/x-python",
   "name": "python",
   "nbconvert_exporter": "python",
   "pygments_lexer": "ipython3",
   "version": "3.7.0"
  }
 },
 "nbformat": 4,
 "nbformat_minor": 4
}
